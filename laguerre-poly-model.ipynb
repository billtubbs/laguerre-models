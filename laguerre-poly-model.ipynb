{
 "cells": [
  {
   "cell_type": "markdown",
   "id": "a1cf98f4-9467-474f-9856-7aa5a9be8b8a",
   "metadata": {},
   "source": [
    "# Demonstrate Laguerre Polynomial Dynamical System Model"
   ]
  },
  {
   "cell_type": "code",
   "execution_count": 1,
   "id": "437ef4c3-79dd-481f-889b-45eca718a4ab",
   "metadata": {},
   "outputs": [],
   "source": [
    "import casadi as ca\n",
    "import numpy as np\n",
    "import matplotlib.pyplot as plt\n",
    "from matplotlib.widgets import Slider"
   ]
  },
  {
   "cell_type": "code",
   "execution_count": 2,
   "id": "a2411185-a258-463e-8231-e15ef505ebcb",
   "metadata": {},
   "outputs": [
    {
     "data": {
      "text/plain": [
       "'3.10.16'"
      ]
     },
     "execution_count": 2,
     "metadata": {},
     "output_type": "execute_result"
    }
   ],
   "source": [
    "from platform import python_version\n",
    "\n",
    "python_version()"
   ]
  },
  {
   "cell_type": "code",
   "execution_count": 3,
   "id": "4c2b0f91-3f39-450e-befe-52c630646dfe",
   "metadata": {},
   "outputs": [
    {
     "data": {
      "text/plain": [
       "'3.8.4'"
      ]
     },
     "execution_count": 3,
     "metadata": {},
     "output_type": "execute_result"
    }
   ],
   "source": [
    "import matplotlib\n",
    "matplotlib.__version__"
   ]
  },
  {
   "cell_type": "code",
   "execution_count": 4,
   "id": "39d453e2-69a3-4f7d-9465-f7ff61043f57",
   "metadata": {},
   "outputs": [],
   "source": [
    "def calculate_tau_parameters(p, T):\n",
    "    \"\"\"\n",
    "    Calculate the tau parameters from the Laguerre filter theory.\n",
    "    \n",
    "    Returns:\n",
    "    --------\n",
    "    Tuple of CasADi symbolic expressions for tau1, tau2, tau3, tau4\n",
    "    \"\"\"\n",
    "\n",
    "    \n",
    "    # Calculate tau parameters as per equations in the paper\n",
    "    exp_pT = ca.exp(-p * T)\n",
    "    \n",
    "    tau1 = exp_pT\n",
    "    tau2 = T + (2 / p) * (exp_pT - 1)\n",
    "    tau3 = -T * exp_pT - (2 / p) * (exp_pT - 1)\n",
    "    tau4 = ca.sqrt(2 * p * (1 - tau1) / p)\n",
    "\n",
    "    return tau1, tau2, tau3, tau4\n",
    "\n",
    "def construct_A_matrix(N, T, tau1, tau2, tau3) -> ca.SX:\n",
    "    \"\"\"\n",
    "    Construct the A matrix based on the Laguerre filter structure.\n",
    "    \n",
    "    Returns:\n",
    "    --------\n",
    "    ca.SX: N x N state transition matrix\n",
    "    \"\"\"\n",
    "    A = ca.SX.zeros(N, N)\n",
    "    \n",
    "    # Fill the diagonal with tau1\n",
    "    for i in range(N):\n",
    "        A[i, i] = tau1\n",
    "    \n",
    "    # Fill the super-diagonal elements\n",
    "    for i in range(N - 1):\n",
    "        if i == 0:\n",
    "            # First row, second column\n",
    "            A[i, i + 1] = 0\n",
    "        else:\n",
    "            # Other super-diagonal elements\n",
    "            A[i, i + 1] = 0\n",
    "    \n",
    "    # Fill the sub-diagonal elements\n",
    "    for i in range(1, N):\n",
    "        A[i, i - 1] = -(tau1 * tau2 + tau3) / T\n",
    "    \n",
    "    # Fill the first column (except diagonal)\n",
    "    for i in range(1, N):\n",
    "        A[i, 0] = ((-1)**(i) * tau1**(i-1) * (tau1 * tau2 + tau3)) / (T**(i))\n",
    "    \n",
    "    return A\n",
    "\n",
    "def construct_b_vector(N, T, tau2, tau4):\n",
    "    \"\"\"\n",
    "    Construct the b vector (input matrix).\n",
    "    \n",
    "    Returns:\n",
    "    --------\n",
    "    ca.SX: N x 1 input vector\n",
    "    \"\"\"\n",
    "    b = ca.SX.zeros(N)\n",
    "    \n",
    "    # Fill b vector according to equation (9)\n",
    "    for i in range(N):\n",
    "        if i == 0:\n",
    "            b[i] = tau4\n",
    "        else:\n",
    "            b[i] = (-tau2 / T)**(i) * tau4\n",
    "    \n",
    "    return b"
   ]
  },
  {
   "cell_type": "markdown",
   "id": "b45638dc-63c4-4fc6-a19e-be5696315055",
   "metadata": {},
   "source": [
    "## Construct Laguerre Polynomial Model"
   ]
  },
  {
   "cell_type": "code",
   "execution_count": 5,
   "id": "211e2fc8-9eee-4425-a4b2-f44afae33f2c",
   "metadata": {},
   "outputs": [],
   "source": [
    "N = 5\n",
    "p = ca.SX.sym('p')\n",
    "T = ca.SX.sym('T')\n",
    "\n",
    "tau1, tau2, tau3, tau4 = calculate_tau_parameters(p, T)"
   ]
  },
  {
   "cell_type": "code",
   "execution_count": 6,
   "id": "f5030070-2a5a-48be-823e-59ba35ee4549",
   "metadata": {},
   "outputs": [
    {
     "data": {
      "text/plain": [
       "SX(@1=exp((-(p*T))), @2=2, @3=1, @4=(T+((@2/p)*(@1-@3))), @5=((T*@1)+((@2/p)*(@1-@3))), @6=0, \n",
       "[[@1, @6, @6, @6, @6], \n",
       " [(-(((@1*@4)-@5)/T)), @1, @6, @6, @6], \n",
       " [((@1*((@1*@4)-@5))/sq(T)), (-(((@1*@4)-@5)/T)), @1, @6, @6], \n",
       " [(-((sq(@1)*((@1*@4)-@5))/(T*sq(T)))), @6, (-(((@1*@4)-@5)/T)), @1, @6], \n",
       " [(((@1*sq(@1))*((@1*@4)-@5))/sq(sq(T))), @6, @6, (-(((@1*@4)-@5)/T)), @1]])"
      ]
     },
     "execution_count": 6,
     "metadata": {},
     "output_type": "execute_result"
    }
   ],
   "source": [
    "A = construct_A_matrix(N, T, tau1, tau2, tau3)\n",
    "assert A.shape == (N, N)\n",
    "A"
   ]
  },
  {
   "cell_type": "code",
   "execution_count": 7,
   "id": "d79a4205-cee9-4521-ba8a-db7e38206ad2",
   "metadata": {},
   "outputs": [
    {
     "data": {
      "text/plain": [
       "SX(@1=2, @2=1, @3=exp((-(p*T))), @4=sqrt((((@1*p)*(@2-@3))/p)), @5=(T+((@1/p)*(@3-@2))), @6=(@5/T), [@4, (-((@5/T)*@4)), (sq((@5/T))*@4), (-((@6*sq(@6))*@4)), (sq(sq((@5/T)))*@4)])"
      ]
     },
     "execution_count": 7,
     "metadata": {},
     "output_type": "execute_result"
    }
   ],
   "source": [
    "b = construct_b_vector(N, T, tau2, tau4)\n",
    "assert b.shape == (N, 1)\n",
    "b"
   ]
  },
  {
   "cell_type": "code",
   "execution_count": 8,
   "id": "ec262937-7ad4-419c-898c-367cdd1726e6",
   "metadata": {},
   "outputs": [],
   "source": [
    "def make_state_transition_function(N):\n",
    "    p = ca.SX.sym('p')\n",
    "    T = ca.SX.sym('T')\n",
    "    tau1, tau2, tau3, tau4 = calculate_tau_parameters(p, T)\n",
    "    A = construct_A_matrix(N, T, tau1, tau2, tau3)\n",
    "    assert A.shape == (N, N)\n",
    "    b = construct_b_vector(N, T, tau2, tau4)\n",
    "    x = ca.SX.sym('x', N)\n",
    "    u = ca.SX.sym('u')\n",
    "    assert b.shape == (N, 1)\n",
    "    f = ca.Function(\"f\", [x, u, p, T], [A @ x + b @ u], ['xk', 'uk', 'p', 'T'], ['xkp1'])\n",
    "    return f\n",
    "\n",
    "N = 3\n",
    "f = make_state_transition_function(N)\n",
    "x = ca.DM.zeros(N)\n",
    "u = ca.DM(0)\n",
    "p = ca.DM(0.5)\n",
    "T = ca.DM(0.5)\n",
    "assert np.allclose(f(x, u, p, T), [0.0, 0.0, 0.0])"
   ]
  },
  {
   "cell_type": "code",
   "execution_count": 9,
   "id": "268b4762-159d-4ddd-84f1-4ad42c2aa56a",
   "metadata": {},
   "outputs": [],
   "source": [
    "def make_output_function(N):\n",
    "    x = ca.SX.sym('x', N)\n",
    "    u = ca.SX.sym('u')\n",
    "    c = ca.SX.sym('c', N)\n",
    "    h = ca.Function(\"h\", [x, u, c], [c.T @ x], ['xk', 'uk', 'c'], ['yk'])\n",
    "    return h\n",
    "\n",
    "N = 3\n",
    "h = make_output_function(N)\n",
    "x = ca.DM.zeros(N)\n",
    "u = ca.DM(0)\n",
    "c = ca.DM.ones(N)\n",
    "assert np.allclose(h(x, u, c), [0.0])"
   ]
  },
  {
   "cell_type": "markdown",
   "id": "737a1f3c-a354-459d-8d9f-9353034b7ddd",
   "metadata": {},
   "source": [
    "## Simulate step response"
   ]
  },
  {
   "cell_type": "code",
   "execution_count": 10,
   "id": "02486651-a8bd-4cda-9015-76666e745fc2",
   "metadata": {},
   "outputs": [],
   "source": [
    "def make_step_response_function(N, T, nT, k_step=2):\n",
    "\n",
    "    # Construct Laguerre polynomial state transition function\n",
    "    f = make_state_transition_function(N)\n",
    "    h = make_output_function(N)\n",
    "\n",
    "    # Sample period\n",
    "    T = ca.DM(T)\n",
    "\n",
    "    # System parameters (variable)\n",
    "    p = ca.SX.sym('p')\n",
    "    c = ca.SX.sym('c', N)\n",
    "\n",
    "    # Unit step input\n",
    "    U = ca.DM.zeros(nT+1, 1)\n",
    "    U[k_step:, :] = 1.0\n",
    "\n",
    "    X = []\n",
    "    x = ca.DM.zeros(N)\n",
    "    for k in range(nT+1):\n",
    "        X.append(x.T)\n",
    "        u = U[k, :]\n",
    "        x = f(x, u, p, T)\n",
    "    X = ca.vcat(X)\n",
    "    Y = h(X.T, U.T, c).T\n",
    "\n",
    "    step_response = ca.Function(\n",
    "        \"step_response\", \n",
    "        [p, c], \n",
    "        [X, Y], \n",
    "        ['p', 'c'], \n",
    "        ['X', 'Y']\n",
    "    )\n",
    "\n",
    "    return step_response"
   ]
  },
  {
   "cell_type": "code",
   "execution_count": 11,
   "id": "b827a3bc-9247-4ee2-b87c-70f86cec6e71",
   "metadata": {},
   "outputs": [
    {
     "data": {
      "image/png": "[encoded data removed]",
      "text/plain": [
       "<Figure size 700x400 with 2 Axes>"
      ]
     },
     "metadata": {},
     "output_type": "display_data"
    }
   ],
   "source": [
    "def make_step_response_plot(t, X, Y, figsize=(7, 4)):\n",
    "\n",
    "    fig, axes = plt.subplots(2, 1, sharex=True, figsize=figsize)\n",
    "\n",
    "    N = X.shape[1]\n",
    "    x_labels = [f\"$x_{i+1}(t)$\" for i in range(N)]\n",
    "    y_label = \"$y(t)$\"\n",
    "\n",
    "    ax = axes[0]\n",
    "    ax.plot(t, X, marker='.', linestyle='-', label=x_labels)\n",
    "    ax.grid()\n",
    "    ax.legend()\n",
    "\n",
    "    ax = axes[1]\n",
    "    ax.plot(t, Y, marker='.', linestyle='-', label=y_label)\n",
    "    ax.set_xlabel('t')\n",
    "    ax.grid()\n",
    "    ax.legend()\n",
    "\n",
    "    return fig, ax  \n",
    "\n",
    "# Example\n",
    "N = 3\n",
    "p = 0.5\n",
    "c = np.ones(N)\n",
    "\n",
    "# Simulation time\n",
    "t_stop = 25\n",
    "T = 0.5\n",
    "nT = int(np.ceil(t_stop / T))\n",
    "t = ca.DM(T * np.arange(nT+1))\n",
    "\n",
    "step_response = make_step_response_function(N, T, nT)\n",
    "\n",
    "t = T * np.arange(nT+1)\n",
    "\n",
    "X, Y = step_response(p, c)\n",
    "X = np.array(X)\n",
    "Y = np.array(Y)\n",
    "\n",
    "fig, ax = make_step_response_plot(t, X, Y)\n",
    "plt.tight_layout()\n",
    "plt.show()"
   ]
  },
  {
   "cell_type": "code",
   "execution_count": 22,
   "id": "9f9affaf-a0c8-4b5d-9cb7-0da1d01f8413",
   "metadata": {},
   "outputs": [
    {
     "name": "stdout",
     "output_type": "stream",
     "text": [
      "You MUST use %matplotlib notebook for interactive matplotlib sliders.\n"
     ]
    }
   ],
   "source": [
    "def create_interactive_step_response_plot():\n",
    "    \"\"\"\n",
    "    Creates an interactive step response plot with sliders for parameters p and c vector.\n",
    "    \"\"\"\n",
    "    \n",
    "    # Fixed parameters\n",
    "    N = 5\n",
    "    nT = 20\n",
    "    T = 0.5\n",
    "    t = T * np.arange(nT+1)\n",
    "    \n",
    "    # Create the step response function\n",
    "    step_response = make_step_response_function(N, T, nT)\n",
    "    \n",
    "    # Create figure and subplots\n",
    "    fig = plt.figure(figsize=(10, 8))\n",
    "    \n",
    "    # Main plot area - leave space at bottom for sliders\n",
    "    gs = fig.add_gridspec(2, 1, height_ratios=[1, 1], hspace=0.1, \n",
    "                         left=0.1, right=0.95, top=0.85, bottom=0.35)\n",
    "    \n",
    "    ax1 = fig.add_subplot(gs[0])  # States plot\n",
    "    ax2 = fig.add_subplot(gs[1])  # Output plot\n",
    "    \n",
    "    # Initial parameter values\n",
    "    p_init = 0.5\n",
    "    c_init = np.ones(N)\n",
    "    \n",
    "    # Compute initial step response\n",
    "    X_init, Y_init = step_response(p_init, c_init)\n",
    "    X_init = np.array(X_init)\n",
    "    Y_init = np.array(Y_init)\n",
    "    \n",
    "    # Create initial plots\n",
    "    x_labels = [f\"$x_{i+1}(t)$\" for i in range(N)]\n",
    "    y_label = \"$y(t)$\"\n",
    "    \n",
    "    # Plot states\n",
    "    lines_x = []\n",
    "    for i in range(N):\n",
    "        line, = ax1.plot(t, X_init[:, i], marker='.', linestyle='-', label=x_labels[i])\n",
    "        lines_x.append(line)\n",
    "    \n",
    "    ax1.grid(True)\n",
    "    ax1.legend()\n",
    "    ax1.set_ylabel('States')\n",
    "    ax1.set_title('Laguerre Model Step Response')\n",
    "    \n",
    "    # Plot output\n",
    "    line_y, = ax2.plot(t, Y_init, marker='.', linestyle='-', label=y_label, color='red')\n",
    "    ax2.grid(True)\n",
    "    ax2.legend()\n",
    "    ax2.set_xlabel('Time (t)')\n",
    "    ax2.set_ylabel('Output')\n",
    "    \n",
    "    # Create slider axes\n",
    "    slider_height = 0.03\n",
    "    slider_spacing = 0.04\n",
    "    slider_left = 0.15\n",
    "    slider_width = 0.7\n",
    "    \n",
    "    # Parameter p slider\n",
    "    ax_p = fig.add_axes([slider_left, 0.25, slider_width, slider_height])\n",
    "    slider_p = Slider(ax_p, 'p', 0.1, 0.9, valinit=p_init, valfmt='%.2f')\n",
    "    \n",
    "    # Parameter c sliders\n",
    "    sliders_c = []\n",
    "    for i in range(N):\n",
    "        ax_c = fig.add_axes([slider_left, 0.25 - (i+1)*slider_spacing, slider_width, slider_height])\n",
    "        slider_c = Slider(ax_c, f'c[{i+1}]', 0.1, 2.0, valinit=c_init[i], valfmt='%.2f')\n",
    "        sliders_c.append(slider_c)\n",
    "    \n",
    "    def update_plot(val=None):\n",
    "        \"\"\"Update the plot when sliders change\"\"\"\n",
    "        # Get current parameter values\n",
    "        p_current = slider_p.val\n",
    "        c_current = np.array([slider.val for slider in sliders_c])\n",
    "        \n",
    "        try:\n",
    "            # Compute new step response\n",
    "            X_new, Y_new = step_response(p_current, c_current)\n",
    "            X_new = np.array(X_new)\n",
    "            Y_new = np.array(Y_new)\n",
    "            \n",
    "            # Update state plots\n",
    "            for i, line in enumerate(lines_x):\n",
    "                line.set_ydata(X_new[:, i])\n",
    "            \n",
    "            # Update output plot\n",
    "            line_y.set_ydata(Y_new)\n",
    "            \n",
    "            # Rescale axes if needed\n",
    "            ax1.relim()\n",
    "            ax1.autoscale_view()\n",
    "            ax2.relim()\n",
    "            ax2.autoscale_view()\n",
    "            \n",
    "            # Redraw\n",
    "            fig.canvas.draw_idle()\n",
    "            \n",
    "        except Exception as e:\n",
    "            print(f\"Error updating plot: {e}\")\n",
    "    \n",
    "    # Connect sliders to update function\n",
    "    slider_p.on_changed(update_plot)\n",
    "    for slider in sliders_c:\n",
    "        slider.on_changed(update_plot)\n",
    "    \n",
    "    # Instructions\n",
    "    fig.suptitle('Interactive Step Response Plot\\nAdjust sliders to change parameters p and c', \n",
    "                 fontsize=12, y=0.95)\n",
    "    \n",
    "    plt.show()\n",
    "    \n",
    "    return fig, (ax1, ax2), slider_p, sliders_c\n",
    "\n",
    "# Usage instructions for Jupyter notebook:\n",
    "print(\"You MUST use %matplotlib notebook for interactive matplotlib sliders.\")\n"
   ]
  },
  {
   "cell_type": "code",
   "execution_count": 33,
   "id": "ef236995-c9e3-4b2c-a5a1-a79a0f4d5da6",
   "metadata": {},
   "outputs": [
    {
     "data": {
      "application/javascript": "/* Put everything inside the global mpl namespace */\n/* global mpl */\nwindow.mpl = {};\n\nmpl.get_websocket_type = function () {\n    if (typeof WebSocket !== 'undefined') {\n        return WebSocket;\n    } else if (typeof MozWebSocket !== 'undefined') {\n        return MozWebSocket;\n    } else {\n        alert(\n            'Your browser does not have WebSocket support. ' +\n                'Please try Chrome, Safari or Firefox ≥ 6. ' +\n                'Firefox 4 and 5 are also supported but you ' +\n                'have to enable WebSockets in about:config.'\n        );\n    }\n};\n\nmpl.figure = function (figure_id, websocket, ondownload, parent_element) {\n    this.id = figure_id;\n\n    this.ws = websocket;\n\n    this.supports_binary = this.ws.binaryType !== undefined;\n\n    if (!this.supports_binary) {\n        var warnings = document.getElementById('mpl-warnings');\n        if (warnings) {\n            warnings.style.display = 'block';\n            warnings.textContent =\n                'This browser does not support binary websocket messages. ' +\n                'Performance may be slow.';\n        }\n    }\n\n    this.imageObj = new Image();\n\n    this.context = undefined;\n    this.message = undefined;\n    this.canvas = undefined;\n    this.rubberband_canvas = undefined;\n    this.rubberband_context = undefined;\n    this.format_dropdown = undefined;\n\n    this.image_mode = 'full';\n\n    this.root = document.createElement('div');\n    this.root.setAttribute('style', 'display: inline-block');\n    this._root_extra_style(this.root);\n\n    parent_element.appendChild(this.root);\n\n    this._init_header(this);\n    this._init_canvas(this);\n    this._init_toolbar(this);\n\n    var fig = this;\n\n    this.waiting = false;\n\n    this.ws.onopen = function () {\n        fig.send_message('supports_binary', { value: fig.supports_binary });\n        fig.send_message('send_image_mode', {});\n        if (fig.ratio !== 1) {\n            fig.send_message('set_device_pixel_ratio', {\n                device_pixel_ratio: fig.ratio,\n            });\n        }\n        fig.send_message('refresh', {});\n    };\n\n    this.imageObj.onload = function () {\n        if (fig.image_mode === 'full') {\n            // Full images could contain transparency (where diff images\n            // almost always do), so we need to clear the canvas so that\n            // there is no ghosting.\n            fig.context.clearRect(0, 0, fig.canvas.width, fig.canvas.height);\n        }\n        fig.context.drawImage(fig.imageObj, 0, 0);\n    };\n\n    this.imageObj.onunload = function () {\n        fig.ws.close();\n    };\n\n    this.ws.onmessage = this._make_on_message_function(this);\n\n    this.ondownload = ondownload;\n};\n\nmpl.figure.prototype._init_header = function () {\n    var titlebar = document.createElement('div');\n    titlebar.classList =\n        'ui-dialog-titlebar ui-widget-header ui-corner-all ui-helper-clearfix';\n    var titletext = document.createElement('div');\n    titletext.classList = 'ui-dialog-title';\n    titletext.setAttribute(\n        'style',\n        'width: 100%; text-align: center; padding: 3px;'\n    );\n    titlebar.appendChild(titletext);\n    this.root.appendChild(titlebar);\n    this.header = titletext;\n};\n\nmpl.figure.prototype._canvas_extra_style = function (_canvas_div) {};\n\nmpl.figure.prototype._root_extra_style = function (_canvas_div) {};\n\nmpl.figure.prototype._init_canvas = function () {\n    var fig = this;\n\n    var canvas_div = (this.canvas_div = document.createElement('div'));\n    canvas_div.setAttribute('tabindex', '0');\n    canvas_div.setAttribute(\n        'style',\n        'border: 1px solid #ddd;' +\n            'box-sizing: content-box;' +\n            'clear: both;' +\n            'min-height: 1px;' +\n            'min-width: 1px;' +\n            'outline: 0;' +\n            'overflow: hidden;' +\n            'position: relative;' +\n            'resize: both;' +\n            'z-index: 2;'\n    );\n\n    function on_keyboard_event_closure(name) {\n        return function (event) {\n            return fig.key_event(event, name);\n        };\n    }\n\n    canvas_div.addEventListener(\n        'keydown',\n        on_keyboard_event_closure('key_press')\n    );\n    canvas_div.addEventListener(\n        'keyup',\n        on_keyboard_event_closure('key_release')\n    );\n\n    this._canvas_extra_style(canvas_div);\n    this.root.appendChild(canvas_div);\n\n    var canvas = (this.canvas = document.createElement('canvas'));\n    canvas.classList.add('mpl-canvas');\n    canvas.setAttribute(\n        'style',\n        'box-sizing: content-box;' +\n            'pointer-events: none;' +\n            'position: relative;' +\n            'z-index: 0;'\n    );\n\n    this.context = canvas.getContext('2d');\n\n    var backingStore =\n        this.context.backingStorePixelRatio ||\n        this.context.webkitBackingStorePixelRatio ||\n        this.context.mozBackingStorePixelRatio ||\n        this.context.msBackingStorePixelRatio ||\n        this.context.oBackingStorePixelRatio ||\n        this.context.backingStorePixelRatio ||\n        1;\n\n    this.ratio = (window.devicePixelRatio || 1) / backingStore;\n\n    var rubberband_canvas = (this.rubberband_canvas = document.createElement(\n        'canvas'\n    ));\n    rubberband_canvas.setAttribute(\n        'style',\n        'box-sizing: content-box;' +\n            'left: 0;' +\n            'pointer-events: none;' +\n            'position: absolute;' +\n            'top: 0;' +\n            'z-index: 1;'\n    );\n\n    // Apply a ponyfill if ResizeObserver is not implemented by browser.\n    if (this.ResizeObserver === undefined) {\n        if (window.ResizeObserver !== undefined) {\n            this.ResizeObserver = window.ResizeObserver;\n        } else {\n            var obs = _JSXTOOLS_RESIZE_OBSERVER({});\n            this.ResizeObserver = obs.ResizeObserver;\n        }\n    }\n\n    this.resizeObserverInstance = new this.ResizeObserver(function (entries) {\n        var nentries = entries.length;\n        for (var i = 0; i < nentries; i++) {\n            var entry = entries[i];\n            var width, height;\n            if (entry.contentBoxSize) {\n                if (entry.contentBoxSize instanceof Array) {\n                    // Chrome 84 implements new version of spec.\n                    width = entry.contentBoxSize[0].inlineSize;\n                    height = entry.contentBoxSize[0].blockSize;\n                } else {\n                    // Firefox implements old version of spec.\n                    width = entry.contentBoxSize.inlineSize;\n                    height = entry.contentBoxSize.blockSize;\n                }\n            } else {\n                // Chrome <84 implements even older version of spec.\n                width = entry.contentRect.width;\n                height = entry.contentRect.height;\n            }\n\n            // Keep the size of the canvas and rubber band canvas in sync with\n            // the canvas container.\n            if (entry.devicePixelContentBoxSize) {\n                // Chrome 84 implements new version of spec.\n                canvas.setAttribute(\n                    'width',\n                    entry.devicePixelContentBoxSize[0].inlineSize\n                );\n                canvas.setAttribute(\n                    'height',\n                    entry.devicePixelContentBoxSize[0].blockSize\n                );\n            } else {\n                canvas.setAttribute('width', width * fig.ratio);\n                canvas.setAttribute('height', height * fig.ratio);\n            }\n            /* This rescales the canvas back to display pixels, so that it\n             * appears correct on HiDPI screens. */\n            canvas.style.width = width + 'px';\n            canvas.style.height = height + 'px';\n\n            rubberband_canvas.setAttribute('width', width);\n            rubberband_canvas.setAttribute('height', height);\n\n            // And update the size in Python. We ignore the initial 0/0 size\n            // that occurs as the element is placed into the DOM, which should\n            // otherwise not happen due to the minimum size styling.\n            if (fig.ws.readyState == 1 && width != 0 && height != 0) {\n                fig.request_resize(width, height);\n            }\n        }\n    });\n    this.resizeObserverInstance.observe(canvas_div);\n\n    function on_mouse_event_closure(name) {\n        /* User Agent sniffing is bad, but WebKit is busted:\n         * https://bugs.webkit.org/show_bug.cgi?id=144526\n         * https://bugs.webkit.org/show_bug.cgi?id=181818\n         * The worst that happens here is that they get an extra browser\n         * selection when dragging, if this check fails to catch them.\n         */\n        var UA = navigator.userAgent;\n        var isWebKit = /AppleWebKit/.test(UA) && !/Chrome/.test(UA);\n        if(isWebKit) {\n            return function (event) {\n                /* This prevents the web browser from automatically changing to\n                 * the text insertion cursor when the button is pressed. We\n                 * want to control all of the cursor setting manually through\n                 * the 'cursor' event from matplotlib */\n                event.preventDefault()\n                return fig.mouse_event(event, name);\n            };\n        } else {\n            return function (event) {\n                return fig.mouse_event(event, name);\n            };\n        }\n    }\n\n    canvas_div.addEventListener(\n        'mousedown',\n        on_mouse_event_closure('button_press')\n    );\n    canvas_div.addEventListener(\n        'mouseup',\n        on_mouse_event_closure('button_release')\n    );\n    canvas_div.addEventListener(\n        'dblclick',\n        on_mouse_event_closure('dblclick')\n    );\n    // Throttle sequential mouse events to 1 every 20ms.\n    canvas_div.addEventListener(\n        'mousemove',\n        on_mouse_event_closure('motion_notify')\n    );\n\n    canvas_div.addEventListener(\n        'mouseenter',\n        on_mouse_event_closure('figure_enter')\n    );\n    canvas_div.addEventListener(\n        'mouseleave',\n        on_mouse_event_closure('figure_leave')\n    );\n\n    canvas_div.addEventListener('wheel', function (event) {\n        if (event.deltaY < 0) {\n            event.step = 1;\n        } else {\n            event.step = -1;\n        }\n        on_mouse_event_closure('scroll')(event);\n    });\n\n    canvas_div.appendChild(canvas);\n    canvas_div.appendChild(rubberband_canvas);\n\n    this.rubberband_context = rubberband_canvas.getContext('2d');\n    this.rubberband_context.strokeStyle = '#000000';\n\n    this._resize_canvas = function (width, height, forward) {\n        if (forward) {\n            canvas_div.style.width = width + 'px';\n            canvas_div.style.height = height + 'px';\n        }\n    };\n\n    // Disable right mouse context menu.\n    canvas_div.addEventListener('contextmenu', function (_e) {\n        event.preventDefault();\n        return false;\n    });\n\n    function set_focus() {\n        canvas.focus();\n        canvas_div.focus();\n    }\n\n    window.setTimeout(set_focus, 100);\n};\n\nmpl.figure.prototype._init_toolbar = function () {\n    var fig = this;\n\n    var toolbar = document.createElement('div');\n    toolbar.classList = 'mpl-toolbar';\n    this.root.appendChild(toolbar);\n\n    function on_click_closure(name) {\n        return function (_event) {\n            return fig.toolbar_button_onclick(name);\n        };\n    }\n\n    function on_mouseover_closure(tooltip) {\n        return function (event) {\n            if (!event.currentTarget.disabled) {\n                return fig.toolbar_button_onmouseover(tooltip);\n            }\n        };\n    }\n\n    fig.buttons = {};\n    var buttonGroup = document.createElement('div');\n    buttonGroup.classList = 'mpl-button-group';\n    for (var toolbar_ind in mpl.toolbar_items) {\n        var name = mpl.toolbar_items[toolbar_ind][0];\n        var tooltip = mpl.toolbar_items[toolbar_ind][1];\n        var image = mpl.toolbar_items[toolbar_ind][2];\n        var method_name = mpl.toolbar_items[toolbar_ind][3];\n\n        if (!name) {\n            /* Instead of a spacer, we start a new button group. */\n            if (buttonGroup.hasChildNodes()) {\n                toolbar.appendChild(buttonGroup);\n            }\n            buttonGroup = document.createElement('div');\n            buttonGroup.classList = 'mpl-button-group';\n            continue;\n        }\n\n        var button = (fig.buttons[name] = document.createElement('button'));\n        button.classList = 'mpl-widget';\n        button.setAttribute('role', 'button');\n        button.setAttribute('aria-disabled', 'false');\n        button.addEventListener('click', on_click_closure(method_name));\n        button.addEventListener('mouseover', on_mouseover_closure(tooltip));\n\n        var icon_img = document.createElement('img');\n        icon_img.src = '_images/' + image + '.png';\n        icon_img.srcset = '_images/' + image + '_large.png 2x';\n        icon_img.alt = tooltip;\n        button.appendChild(icon_img);\n\n        buttonGroup.appendChild(button);\n    }\n\n    if (buttonGroup.hasChildNodes()) {\n        toolbar.appendChild(buttonGroup);\n    }\n\n    var fmt_picker = document.createElement('select');\n    fmt_picker.classList = 'mpl-widget';\n    toolbar.appendChild(fmt_picker);\n    this.format_dropdown = fmt_picker;\n\n    for (var ind in mpl.extensions) {\n        var fmt = mpl.extensions[ind];\n        var option = document.createElement('option');\n        option.selected = fmt === mpl.default_extension;\n        option.innerHTML = fmt;\n        fmt_picker.appendChild(option);\n    }\n\n    var status_bar = document.createElement('span');\n    status_bar.classList = 'mpl-message';\n    toolbar.appendChild(status_bar);\n    this.message = status_bar;\n};\n\nmpl.figure.prototype.request_resize = function (x_pixels, y_pixels) {\n    // Request matplotlib to resize the figure. Matplotlib will then trigger a resize in the client,\n    // which will in turn request a refresh of the image.\n    this.send_message('resize', { width: x_pixels, height: y_pixels });\n};\n\nmpl.figure.prototype.send_message = function (type, properties) {\n    properties['type'] = type;\n    properties['figure_id'] = this.id;\n    this.ws.send(JSON.stringify(properties));\n};\n\nmpl.figure.prototype.send_draw_message = function () {\n    if (!this.waiting) {\n        this.waiting = true;\n        this.ws.send(JSON.stringify({ type: 'draw', figure_id: this.id }));\n    }\n};\n\nmpl.figure.prototype.handle_save = function (fig, _msg) {\n    var format_dropdown = fig.format_dropdown;\n    var format = format_dropdown.options[format_dropdown.selectedIndex].value;\n    fig.ondownload(fig, format);\n};\n\nmpl.figure.prototype.handle_resize = function (fig, msg) {\n    var size = msg['size'];\n    if (size[0] !== fig.canvas.width || size[1] !== fig.canvas.height) {\n        fig._resize_canvas(size[0], size[1], msg['forward']);\n        fig.send_message('refresh', {});\n    }\n};\n\nmpl.figure.prototype.handle_rubberband = function (fig, msg) {\n    var x0 = msg['x0'] / fig.ratio;\n    var y0 = (fig.canvas.height - msg['y0']) / fig.ratio;\n    var x1 = msg['x1'] / fig.ratio;\n    var y1 = (fig.canvas.height - msg['y1']) / fig.ratio;\n    x0 = Math.floor(x0) + 0.5;\n    y0 = Math.floor(y0) + 0.5;\n    x1 = Math.floor(x1) + 0.5;\n    y1 = Math.floor(y1) + 0.5;\n    var min_x = Math.min(x0, x1);\n    var min_y = Math.min(y0, y1);\n    var width = Math.abs(x1 - x0);\n    var height = Math.abs(y1 - y0);\n\n    fig.rubberband_context.clearRect(\n        0,\n        0,\n        fig.canvas.width / fig.ratio,\n        fig.canvas.height / fig.ratio\n    );\n\n    fig.rubberband_context.strokeRect(min_x, min_y, width, height);\n};\n\nmpl.figure.prototype.handle_figure_label = function (fig, msg) {\n    // Updates the figure title.\n    fig.header.textContent = msg['label'];\n};\n\nmpl.figure.prototype.handle_cursor = function (fig, msg) {\n    fig.canvas_div.style.cursor = msg['cursor'];\n};\n\nmpl.figure.prototype.handle_message = function (fig, msg) {\n    fig.message.textContent = msg['message'];\n};\n\nmpl.figure.prototype.handle_draw = function (fig, _msg) {\n    // Request the server to send over a new figure.\n    fig.send_draw_message();\n};\n\nmpl.figure.prototype.handle_image_mode = function (fig, msg) {\n    fig.image_mode = msg['mode'];\n};\n\nmpl.figure.prototype.handle_history_buttons = function (fig, msg) {\n    for (var key in msg) {\n        if (!(key in fig.buttons)) {\n            continue;\n        }\n        fig.buttons[key].disabled = !msg[key];\n        fig.buttons[key].setAttribute('aria-disabled', !msg[key]);\n    }\n};\n\nmpl.figure.prototype.handle_navigate_mode = function (fig, msg) {\n    if (msg['mode'] === 'PAN') {\n        fig.buttons['Pan'].classList.add('active');\n        fig.buttons['Zoom'].classList.remove('active');\n    } else if (msg['mode'] === 'ZOOM') {\n        fig.buttons['Pan'].classList.remove('active');\n        fig.buttons['Zoom'].classList.add('active');\n    } else {\n        fig.buttons['Pan'].classList.remove('active');\n        fig.buttons['Zoom'].classList.remove('active');\n    }\n};\n\nmpl.figure.prototype.updated_canvas_event = function () {\n    // Called whenever the canvas gets updated.\n    this.send_message('ack', {});\n};\n\n// A function to construct a web socket function for onmessage handling.\n// Called in the figure constructor.\nmpl.figure.prototype._make_on_message_function = function (fig) {\n    return function socket_on_message(evt) {\n        if (evt.data instanceof Blob) {\n            var img = evt.data;\n            if (img.type !== 'image/png') {\n                /* FIXME: We get \"Resource interpreted as Image but\n                 * transferred with MIME type text/plain:\" errors on\n                 * Chrome.  But how to set the MIME type?  It doesn't seem\n                 * to be part of the websocket stream */\n                img.type = 'image/png';\n            }\n\n            /* Free the memory for the previous frames */\n            if (fig.imageObj.src) {\n                (window.URL || window.webkitURL).revokeObjectURL(\n                    fig.imageObj.src\n                );\n            }\n\n            fig.imageObj.src = (window.URL || window.webkitURL).createObjectURL(\n                img\n            );\n            fig.updated_canvas_event();\n            fig.waiting = false;\n            return;\n        } else if (\n            typeof evt.data === 'string' &&\n            evt.data.slice(0, 21) === 'data:image/png;base64'\n        ) {\n            fig.imageObj.src = evt.data;\n            fig.updated_canvas_event();\n            fig.waiting = false;\n            return;\n        }\n\n        var msg = JSON.parse(evt.data);\n        var msg_type = msg['type'];\n\n        // Call the  \"handle_{type}\" callback, which takes\n        // the figure and JSON message as its only arguments.\n        try {\n            var callback = fig['handle_' + msg_type];\n        } catch (e) {\n            console.log(\n                \"No handler for the '\" + msg_type + \"' message type: \",\n                msg\n            );\n            return;\n        }\n\n        if (callback) {\n            try {\n                // console.log(\"Handling '\" + msg_type + \"' message: \", msg);\n                callback(fig, msg);\n            } catch (e) {\n                console.log(\n                    \"Exception inside the 'handler_\" + msg_type + \"' callback:\",\n                    e,\n                    e.stack,\n                    msg\n                );\n            }\n        }\n    };\n};\n\nfunction getModifiers(event) {\n    var mods = [];\n    if (event.ctrlKey) {\n        mods.push('ctrl');\n    }\n    if (event.altKey) {\n        mods.push('alt');\n    }\n    if (event.shiftKey) {\n        mods.push('shift');\n    }\n    if (event.metaKey) {\n        mods.push('meta');\n    }\n    return mods;\n}\n\n/*\n * return a copy of an object with only non-object keys\n * we need this to avoid circular references\n * https://stackoverflow.com/a/24161582/3208463\n */\nfunction simpleKeys(original) {\n    return Object.keys(original).reduce(function (obj, key) {\n        if (typeof original[key] !== 'object') {\n            obj[key] = original[key];\n        }\n        return obj;\n    }, {});\n}\n\nmpl.figure.prototype.mouse_event = function (event, name) {\n    if (name === 'button_press') {\n        this.canvas.focus();\n        this.canvas_div.focus();\n    }\n\n    // from https://stackoverflow.com/q/1114465\n    var boundingRect = this.canvas.getBoundingClientRect();\n    var x = (event.clientX - boundingRect.left) * this.ratio;\n    var y = (event.clientY - boundingRect.top) * this.ratio;\n\n    this.send_message(name, {\n        x: x,\n        y: y,\n        button: event.button,\n        step: event.step,\n        modifiers: getModifiers(event),\n        guiEvent: simpleKeys(event),\n    });\n\n    return false;\n};\n\nmpl.figure.prototype._key_event_extra = function (_event, _name) {\n    // Handle any extra behaviour associated with a key event\n};\n\nmpl.figure.prototype.key_event = function (event, name) {\n    // Prevent repeat events\n    if (name === 'key_press') {\n        if (event.key === this._key) {\n            return;\n        } else {\n            this._key = event.key;\n        }\n    }\n    if (name === 'key_release') {\n        this._key = null;\n    }\n\n    var value = '';\n    if (event.ctrlKey && event.key !== 'Control') {\n        value += 'ctrl+';\n    }\n    else if (event.altKey && event.key !== 'Alt') {\n        value += 'alt+';\n    }\n    else if (event.shiftKey && event.key !== 'Shift') {\n        value += 'shift+';\n    }\n\n    value += 'k' + event.key;\n\n    this._key_event_extra(event, name);\n\n    this.send_message(name, { key: value, guiEvent: simpleKeys(event) });\n    return false;\n};\n\nmpl.figure.prototype.toolbar_button_onclick = function (name) {\n    if (name === 'download') {\n        this.handle_save(this, null);\n    } else {\n        this.send_message('toolbar_button', { name: name });\n    }\n};\n\nmpl.figure.prototype.toolbar_button_onmouseover = function (tooltip) {\n    this.message.textContent = tooltip;\n};\n\n///////////////// REMAINING CONTENT GENERATED BY embed_js.py /////////////////\n// prettier-ignore\nvar _JSXTOOLS_RESIZE_OBSERVER=function(A){var t,i=new WeakMap,n=new WeakMap,a=new WeakMap,r=new WeakMap,o=new Set;function s(e){if(!(this instanceof s))throw new TypeError(\"Constructor requires 'new' operator\");i.set(this,e)}function h(){throw new TypeError(\"Function is not a constructor\")}function c(e,t,i,n){e=0 in arguments?Number(arguments[0]):0,t=1 in arguments?Number(arguments[1]):0,i=2 in arguments?Number(arguments[2]):0,n=3 in arguments?Number(arguments[3]):0,this.right=(this.x=this.left=e)+(this.width=i),this.bottom=(this.y=this.top=t)+(this.height=n),Object.freeze(this)}function d(){t=requestAnimationFrame(d);var s=new WeakMap,p=new Set;o.forEach((function(t){r.get(t).forEach((function(i){var r=t instanceof window.SVGElement,o=a.get(t),d=r?0:parseFloat(o.paddingTop),f=r?0:parseFloat(o.paddingRight),l=r?0:parseFloat(o.paddingBottom),u=r?0:parseFloat(o.paddingLeft),g=r?0:parseFloat(o.borderTopWidth),m=r?0:parseFloat(o.borderRightWidth),w=r?0:parseFloat(o.borderBottomWidth),b=u+f,F=d+l,v=(r?0:parseFloat(o.borderLeftWidth))+m,W=g+w,y=r?0:t.offsetHeight-W-t.clientHeight,E=r?0:t.offsetWidth-v-t.clientWidth,R=b+v,z=F+W,M=r?t.width:parseFloat(o.width)-R-E,O=r?t.height:parseFloat(o.height)-z-y;if(n.has(t)){var k=n.get(t);if(k[0]===M&&k[1]===O)return}n.set(t,[M,O]);var S=Object.create(h.prototype);S.target=t,S.contentRect=new c(u,d,M,O),s.has(i)||(s.set(i,[]),p.add(i)),s.get(i).push(S)}))})),p.forEach((function(e){i.get(e).call(e,s.get(e),e)}))}return s.prototype.observe=function(i){if(i instanceof window.Element){r.has(i)||(r.set(i,new Set),o.add(i),a.set(i,window.getComputedStyle(i)));var n=r.get(i);n.has(this)||n.add(this),cancelAnimationFrame(t),t=requestAnimationFrame(d)}},s.prototype.unobserve=function(i){if(i instanceof window.Element&&r.has(i)){var n=r.get(i);n.has(this)&&(n.delete(this),n.size||(r.delete(i),o.delete(i))),n.size||r.delete(i),o.size||cancelAnimationFrame(t)}},A.DOMRectReadOnly=c,A.ResizeObserver=s,A.ResizeObserverEntry=h,A}; // eslint-disable-line\nmpl.toolbar_items = [[\"Home\", \"Reset original view\", \"fa fa-home\", \"home\"], [\"Back\", \"Back to previous view\", \"fa fa-arrow-left\", \"back\"], [\"Forward\", \"Forward to next view\", \"fa fa-arrow-right\", \"forward\"], [\"\", \"\", \"\", \"\"], [\"Pan\", \"Left button pans, Right button zooms\\nx/y fixes axis, CTRL fixes aspect\", \"fa fa-arrows\", \"pan\"], [\"Zoom\", \"Zoom to rectangle\\nx/y fixes axis\", \"fa fa-square-o\", \"zoom\"], [\"\", \"\", \"\", \"\"], [\"Download\", \"Download plot\", \"fa fa-floppy-o\", \"download\"]];\n\nmpl.extensions = [\"eps\", \"jpeg\", \"pgf\", \"pdf\", \"png\", \"ps\", \"raw\", \"svg\", \"tif\", \"webp\"];\n\nmpl.default_extension = \"png\";/* global mpl */\n\nvar comm_websocket_adapter = function (comm) {\n    // Create a \"websocket\"-like object which calls the given IPython comm\n    // object with the appropriate methods. Currently this is a non binary\n    // socket, so there is still some room for performance tuning.\n    var ws = {};\n\n    ws.binaryType = comm.kernel.ws.binaryType;\n    ws.readyState = comm.kernel.ws.readyState;\n    function updateReadyState(_event) {\n        if (comm.kernel.ws) {\n            ws.readyState = comm.kernel.ws.readyState;\n        } else {\n            ws.readyState = 3; // Closed state.\n        }\n    }\n    comm.kernel.ws.addEventListener('open', updateReadyState);\n    comm.kernel.ws.addEventListener('close', updateReadyState);\n    comm.kernel.ws.addEventListener('error', updateReadyState);\n\n    ws.close = function () {\n        comm.close();\n    };\n    ws.send = function (m) {\n        //console.log('sending', m);\n        comm.send(m);\n    };\n    // Register the callback with on_msg.\n    comm.on_msg(function (msg) {\n        //console.log('receiving', msg['content']['data'], msg);\n        var data = msg['content']['data'];\n        if (data['blob'] !== undefined) {\n            data = {\n                data: new Blob(msg['buffers'], { type: data['blob'] }),\n            };\n        }\n        // Pass the mpl event to the overridden (by mpl) onmessage function.\n        ws.onmessage(data);\n    });\n    return ws;\n};\n\nmpl.mpl_figure_comm = function (comm, msg) {\n    // This is the function which gets called when the mpl process\n    // starts-up an IPython Comm through the \"matplotlib\" channel.\n\n    var id = msg.content.data.id;\n    // Get hold of the div created by the display call when the Comm\n    // socket was opened in Python.\n    var element = document.getElementById(id);\n    var ws_proxy = comm_websocket_adapter(comm);\n\n    function ondownload(figure, _format) {\n        window.open(figure.canvas.toDataURL());\n    }\n\n    var fig = new mpl.figure(id, ws_proxy, ondownload, element);\n\n    // Call onopen now - mpl needs it, as it is assuming we've passed it a real\n    // web socket which is closed, not our websocket->open comm proxy.\n    ws_proxy.onopen();\n\n    fig.parent_element = element;\n    fig.cell_info = mpl.find_output_cell(\"<div id='\" + id + \"'></div>\");\n    if (!fig.cell_info) {\n        console.error('Failed to find cell for figure', id, fig);\n        return;\n    }\n    fig.cell_info[0].output_area.element.on(\n        'cleared',\n        { fig: fig },\n        fig._remove_fig_handler\n    );\n};\n\nmpl.figure.prototype.handle_close = function (fig, msg) {\n    var width = fig.canvas.width / fig.ratio;\n    fig.cell_info[0].output_area.element.off(\n        'cleared',\n        fig._remove_fig_handler\n    );\n    fig.resizeObserverInstance.unobserve(fig.canvas_div);\n\n    // Update the output cell to use the data from the current canvas.\n    fig.push_to_output();\n    var dataURL = fig.canvas.toDataURL();\n    // Re-enable the keyboard manager in IPython - without this line, in FF,\n    // the notebook keyboard shortcuts fail.\n    IPython.keyboard_manager.enable();\n    fig.parent_element.innerHTML =\n        '<img src=\"' + dataURL + '\" width=\"' + width + '\">';\n    fig.close_ws(fig, msg);\n};\n\nmpl.figure.prototype.close_ws = function (fig, msg) {\n    fig.send_message('closing', msg);\n    // fig.ws.close()\n};\n\nmpl.figure.prototype.push_to_output = function (_remove_interactive) {\n    // Turn the data on the canvas into data in the output cell.\n    var width = this.canvas.width / this.ratio;\n    var dataURL = this.canvas.toDataURL();\n    this.cell_info[1]['text/html'] =\n        '<img src=\"' + dataURL + '\" width=\"' + width + '\">';\n};\n\nmpl.figure.prototype.updated_canvas_event = function () {\n    // Tell IPython that the notebook contents must change.\n    IPython.notebook.set_dirty(true);\n    this.send_message('ack', {});\n    var fig = this;\n    // Wait a second, then push the new image to the DOM so\n    // that it is saved nicely (might be nice to debounce this).\n    setTimeout(function () {\n        fig.push_to_output();\n    }, 1000);\n};\n\nmpl.figure.prototype._init_toolbar = function () {\n    var fig = this;\n\n    var toolbar = document.createElement('div');\n    toolbar.classList = 'btn-toolbar';\n    this.root.appendChild(toolbar);\n\n    function on_click_closure(name) {\n        return function (_event) {\n            return fig.toolbar_button_onclick(name);\n        };\n    }\n\n    function on_mouseover_closure(tooltip) {\n        return function (event) {\n            if (!event.currentTarget.disabled) {\n                return fig.toolbar_button_onmouseover(tooltip);\n            }\n        };\n    }\n\n    fig.buttons = {};\n    var buttonGroup = document.createElement('div');\n    buttonGroup.classList = 'btn-group';\n    var button;\n    for (var toolbar_ind in mpl.toolbar_items) {\n        var name = mpl.toolbar_items[toolbar_ind][0];\n        var tooltip = mpl.toolbar_items[toolbar_ind][1];\n        var image = mpl.toolbar_items[toolbar_ind][2];\n        var method_name = mpl.toolbar_items[toolbar_ind][3];\n\n        if (!name) {\n            /* Instead of a spacer, we start a new button group. */\n            if (buttonGroup.hasChildNodes()) {\n                toolbar.appendChild(buttonGroup);\n            }\n            buttonGroup = document.createElement('div');\n            buttonGroup.classList = 'btn-group';\n            continue;\n        }\n\n        button = fig.buttons[name] = document.createElement('button');\n        button.classList = 'btn btn-default';\n        button.href = '#';\n        button.title = name;\n        button.innerHTML = '<i class=\"fa ' + image + ' fa-lg\"></i>';\n        button.addEventListener('click', on_click_closure(method_name));\n        button.addEventListener('mouseover', on_mouseover_closure(tooltip));\n        buttonGroup.appendChild(button);\n    }\n\n    if (buttonGroup.hasChildNodes()) {\n        toolbar.appendChild(buttonGroup);\n    }\n\n    // Add the status bar.\n    var status_bar = document.createElement('span');\n    status_bar.classList = 'mpl-message pull-right';\n    toolbar.appendChild(status_bar);\n    this.message = status_bar;\n\n    // Add the close button to the window.\n    var buttongrp = document.createElement('div');\n    buttongrp.classList = 'btn-group inline pull-right';\n    button = document.createElement('button');\n    button.classList = 'btn btn-mini btn-primary';\n    button.href = '#';\n    button.title = 'Stop Interaction';\n    button.innerHTML = '<i class=\"fa fa-power-off icon-remove icon-large\"></i>';\n    button.addEventListener('click', function (_evt) {\n        fig.handle_close(fig, {});\n    });\n    button.addEventListener(\n        'mouseover',\n        on_mouseover_closure('Stop Interaction')\n    );\n    buttongrp.appendChild(button);\n    var titlebar = this.root.querySelector('.ui-dialog-titlebar');\n    titlebar.insertBefore(buttongrp, titlebar.firstChild);\n};\n\nmpl.figure.prototype._remove_fig_handler = function (event) {\n    var fig = event.data.fig;\n    if (event.target !== this) {\n        // Ignore bubbled events from children.\n        return;\n    }\n    fig.close_ws(fig, {});\n};\n\nmpl.figure.prototype._root_extra_style = function (el) {\n    el.style.boxSizing = 'content-box'; // override notebook setting of border-box.\n};\n\nmpl.figure.prototype._canvas_extra_style = function (el) {\n    // this is important to make the div 'focusable\n    el.setAttribute('tabindex', 0);\n    // reach out to IPython and tell the keyboard manager to turn it's self\n    // off when our div gets focus\n\n    // location in version 3\n    if (IPython.notebook.keyboard_manager) {\n        IPython.notebook.keyboard_manager.register_events(el);\n    } else {\n        // location in version 2\n        IPython.keyboard_manager.register_events(el);\n    }\n};\n\nmpl.figure.prototype._key_event_extra = function (event, _name) {\n    // Check for shift+enter\n    if (event.shiftKey && event.which === 13) {\n        this.canvas_div.blur();\n        // select the cell after this one\n        var index = IPython.notebook.find_cell_index(this.cell_info[0]);\n        IPython.notebook.select(index + 1);\n    }\n};\n\nmpl.figure.prototype.handle_save = function (fig, _msg) {\n    fig.ondownload(fig, null);\n};\n\nmpl.find_output_cell = function (html_output) {\n    // Return the cell and output element which can be found *uniquely* in the notebook.\n    // Note - this is a bit hacky, but it is done because the \"notebook_saving.Notebook\"\n    // IPython event is triggered only after the cells have been serialised, which for\n    // our purposes (turning an active figure into a static one), is too late.\n    var cells = IPython.notebook.get_cells();\n    var ncells = cells.length;\n    for (var i = 0; i < ncells; i++) {\n        var cell = cells[i];\n        if (cell.cell_type === 'code') {\n            for (var j = 0; j < cell.output_area.outputs.length; j++) {\n                var data = cell.output_area.outputs[j];\n                if (data.data) {\n                    // IPython >= 3 moved mimebundle to data attribute of output\n                    data = data.data;\n                }\n                if (data['text/html'] === html_output) {\n                    return [cell, data, j];\n                }\n            }\n        }\n    }\n};\n\n// Register the function which deals with the matplotlib target/channel.\n// The kernel may be null if the page has been refreshed.\nif (IPython.notebook.kernel !== null) {\n    IPython.notebook.kernel.comm_manager.register_target(\n        'matplotlib',\n        mpl.mpl_figure_comm\n    );\n}\n",
      "text/plain": [
       "<IPython.core.display.Javascript object>"
      ]
     },
     "metadata": {},
     "output_type": "display_data"
    },
    {
     "data": {
      "text/html": [
       "<div id='8199afb5-2112-4a90-85e4-8d0864cc3c41'></div>"
      ],
      "text/plain": [
       "<IPython.core.display.HTML object>"
      ]
     },
     "metadata": {},
     "output_type": "display_data"
    }
   ],
   "source": [
    "%matplotlib notebook\n",
    "\n",
    "fig, axes, slider_p, sliders_c = create_interactive_step_response_plot()"
   ]
  },
  {
   "cell_type": "markdown",
   "id": "ef0408dc-5e1c-415a-a398-b6e91349cc7b",
   "metadata": {},
   "source": [
    "## Alternative method using ipywidgets"
   ]
  },
  {
   "cell_type": "code",
   "execution_count": 26,
   "id": "8689c07b-58de-42b5-b43a-e7aabde03965",
   "metadata": {},
   "outputs": [
    {
     "name": "stdout",
     "output_type": "stream",
     "text": [
      "To use the ipywidgets version:\n",
      "1. Install: pip install ipywidgets\n",
      "2. Use: %matplotlib inline\n",
      "3. Run: create_ipywidgets_step_response()\n",
      "\n",
      "This version recreates the entire plot when sliders change,\n",
      "which works well with any matplotlib backend!\n"
     ]
    }
   ],
   "source": [
    "from ipywidgets import interact, FloatSlider, VBox, HBox\n",
    "from IPython.display import display\n",
    "\n",
    "def create_ipywidgets_step_response(N, T, nT, figsize=(7, 4)):\n",
    "    \"\"\"\n",
    "    Creates an interactive step response plot using ipywidgets.\n",
    "    Requires: pip install ipywidgets\n",
    "    \"\"\"\n",
    "    \n",
    "    # Create the step response function\n",
    "    step_response = make_step_response_function(N, T, nT)\n",
    "    \n",
    "    # Time index\n",
    "    t = T * np.arange(nT+1)\n",
    "    \n",
    "    def plot_step_response(**params):\n",
    "        \"\"\"Plot function that gets called when sliders change\"\"\"\n",
    "\n",
    "        # Get parameter values\n",
    "        p = params.pop('p')\n",
    "        c = []\n",
    "        for i in range(len(params)):\n",
    "            name = f'c{i+1}'\n",
    "            c.append(params[name])\n",
    "        c = np.array(c)\n",
    "    \n",
    "        # Clear previous plots\n",
    "        plt.clf()\n",
    "        \n",
    "        # Set up the figure\n",
    "        fig, axes = plt.subplots(2, 1, sharex=True, figsize=figsize)\n",
    "        \n",
    "        try:\n",
    "            # Compute step response\n",
    "            X, Y = step_response(p, c)\n",
    "            X = np.array(X)\n",
    "            Y = np.array(Y)\n",
    "            \n",
    "            # Plot states\n",
    "            x_labels = [f\"$x_{i+1}(t)$\" for i in range(N)]\n",
    "            ax = axes[0]\n",
    "            for i in range(N):\n",
    "                ax.plot(t, X[:, i], marker='.', linestyle='-', label=x_labels[i])\n",
    "            ax.grid(True)\n",
    "            ax.legend()\n",
    "            ax.set_ylabel('States')\n",
    "            ax.set_title('Laguerre Model Step Response')\n",
    "\n",
    "            # Plot output\n",
    "            ax = axes[1]\n",
    "            ax.plot(t, Y, marker='.', linestyle='-', label='$y(t)$', color='red')\n",
    "            ax.set_xlabel('Time (t)')\n",
    "            ax.set_ylabel('Output')\n",
    "            ax.grid(True)\n",
    "            ax.legend()\n",
    "\n",
    "            plt.tight_layout()\n",
    "            plt.show()\n",
    "\n",
    "        except Exception as e:\n",
    "            print(f\"Error computing step response: {e}\")\n",
    "\n",
    "    sliders = {\n",
    "        'p': FloatSlider(value=0.5, min=0.1, max=1.0, step=0.1, description='p:')\n",
    "    }\n",
    "    for i in range(N):\n",
    "        name = f'c{i+1}'\n",
    "        sliders[name] = FloatSlider(value=1.0, min=-2.0, max=2.0, step=0.1, description=f'c[{i+1}]:')\n",
    "    \n",
    "    # Create interactive widget\n",
    "    interact(\n",
    "        plot_step_response,\n",
    "        **sliders\n",
    "    )\n",
    "\n",
    "# Usage for ipywidgets version:\n",
    "print(\"To use the ipywidgets version:\")\n",
    "print(\"1. Install: pip install ipywidgets\")\n",
    "print(\"2. Use: %matplotlib inline\")\n",
    "print(\"3. Run: create_ipywidgets_step_response()\")\n",
    "print()\n",
    "print(\"This version recreates the entire plot when sliders change,\")\n",
    "print(\"which works well with any matplotlib backend!\")"
   ]
  },
  {
   "cell_type": "code",
   "execution_count": 31,
   "id": "16a20120-5b28-4414-bba4-4fe0d2634f07",
   "metadata": {},
   "outputs": [
    {
     "data": {
      "application/vnd.jupyter.widget-view+json": {
       "model_id": "2c061eef87d348dc90c9f3f2b24064a7",
       "version_major": 2,
       "version_minor": 0
      },
      "text/plain": [
       "interactive(children=(FloatSlider(value=0.5, description='p:', max=1.0, min=0.1), FloatSlider(value=1.0, descr…"
      ]
     },
     "metadata": {},
     "output_type": "display_data"
    }
   ],
   "source": [
    "%matplotlib inline\n",
    "\n",
    "# Polynomial order\n",
    "N = 5\n",
    "\n",
    "# Simulation time\n",
    "t_stop = 25\n",
    "T = 0.5\n",
    "nT = int(np.ceil(t_stop / T))\n",
    "\n",
    "create_ipywidgets_step_response(N, T, nT)"
   ]
  },
  {
   "cell_type": "code",
   "execution_count": null,
   "id": "f68673f5-8ef3-4292-b6a1-a84bfd91685e",
   "metadata": {},
   "outputs": [],
   "source": []
  },
  {
   "cell_type": "code",
   "execution_count": null,
   "id": "8cbd9e3d-ebfc-4468-b66b-2edca155e58e",
   "metadata": {},
   "outputs": [],
   "source": []
  },
  {
   "cell_type": "code",
   "execution_count": null,
   "id": "0eefcbf2-1530-47e9-8987-e35d42edb61b",
   "metadata": {},
   "outputs": [],
   "source": []
  },
  {
   "cell_type": "code",
   "execution_count": null,
   "id": "adc69131-a850-4e04-9ea6-23a7d987bfba",
   "metadata": {},
   "outputs": [],
   "source": []
  },
  {
   "cell_type": "code",
   "execution_count": null,
   "id": "9d80fa35-0090-4dcb-ad37-388c0710b2c7",
   "metadata": {},
   "outputs": [],
   "source": []
  },
  {
   "cell_type": "code",
   "execution_count": null,
   "id": "cc778f2d-7082-4ef1-b092-39b97f512d84",
   "metadata": {},
   "outputs": [],
   "source": []
  },
  {
   "cell_type": "code",
   "execution_count": null,
   "id": "922d1604-3070-49db-b7f0-7dd8a53dbb90",
   "metadata": {},
   "outputs": [],
   "source": []
  },
  {
   "cell_type": "code",
   "execution_count": null,
   "id": "67ef963c-1adb-4cdf-a7ff-60aee79386ee",
   "metadata": {},
   "outputs": [],
   "source": []
  },
  {
   "cell_type": "code",
   "execution_count": null,
   "id": "3279e7a7-7c94-4199-ad04-df1588bf0080",
   "metadata": {},
   "outputs": [],
   "source": []
  }
 ],
 "metadata": {
  "kernelspec": {
   "display_name": "casadi",
   "language": "python",
   "name": "python3"
  },
  "language_info": {
   "codemirror_mode": {
    "name": "ipython",
    "version": 3
   },
   "file_extension": ".py",
   "mimetype": "text/x-python",
   "name": "python",
   "nbconvert_exporter": "python",
   "pygments_lexer": "ipython3",
   "version": "3.10.16"
  }
 },
 "nbformat": 4,
 "nbformat_minor": 5
}
